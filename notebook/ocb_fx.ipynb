{
  "nbformat": 4,
  "nbformat_minor": 0,
  "metadata": {
    "colab": {
      "name": "ocb_fx.ipynb",
      "provenance": [],
      "authorship_tag": "ABX9TyPxIStXxS/qNhzcPLeDTreK",
      "include_colab_link": true
    },
    "kernelspec": {
      "name": "python3",
      "display_name": "Python 3"
    },
    "language_info": {
      "name": "python"
    }
  },
  "cells": [
    {
      "cell_type": "markdown",
      "metadata": {
        "id": "view-in-github",
        "colab_type": "text"
      },
      "source": [
        "<a href=\"https://colab.research.google.com/github/sonhn85/iadt/blob/main/notebook/ocb_fx.ipynb\" target=\"_parent\"><img src=\"https://colab.research.google.com/assets/colab-badge.svg\" alt=\"Open In Colab\"/></a>"
      ]
    },
    {
      "cell_type": "code",
      "metadata": {
        "id": "IGcv8aZYjK6L",
        "outputId": "060b0d0e-e401-4332-bcc8-c5280ce8840a",
        "colab": {
          "base_uri": "https://localhost:8080/"
        }
      },
      "source": [
        "# Clone github repo\n",
        "\n",
        "!rm -r ocb_fx\n",
        "!mkdir ocb_fx\n",
        "!cd ocb_fx\n",
        "!git clone https://github.com/sonhn-dev/ocb_fx"
      ],
      "execution_count": 57,
      "outputs": [
        {
          "output_type": "stream",
          "name": "stdout",
          "text": [
            "Cloning into 'ocb_fx'...\n",
            "remote: Enumerating objects: 86, done.\u001b[K\n",
            "remote: Counting objects: 100% (86/86), done.\u001b[K\n",
            "remote: Compressing objects: 100% (79/79), done.\u001b[K\n",
            "remote: Total 86 (delta 35), reused 0 (delta 0), pack-reused 0\u001b[K\n",
            "Unpacking objects: 100% (86/86), done.\n"
          ]
        }
      ]
    },
    {
      "cell_type": "code",
      "metadata": {
        "id": "_o6os8dd2CRK",
        "outputId": "b3ffcc14-bdec-4684-b93e-671d9dd597cf",
        "colab": {
          "base_uri": "https://localhost:8080/"
        }
      },
      "source": [
        "!pip install unidecode"
      ],
      "execution_count": 32,
      "outputs": [
        {
          "output_type": "stream",
          "name": "stdout",
          "text": [
            "Collecting unidecode\n",
            "  Downloading Unidecode-1.3.2-py3-none-any.whl (235 kB)\n",
            "\u001b[?25l\r\u001b[K     |█▍                              | 10 kB 28.2 MB/s eta 0:00:01\r\u001b[K     |██▉                             | 20 kB 24.9 MB/s eta 0:00:01\r\u001b[K     |████▏                           | 30 kB 12.3 MB/s eta 0:00:01\r\u001b[K     |█████▋                          | 40 kB 9.4 MB/s eta 0:00:01\r\u001b[K     |███████                         | 51 kB 5.3 MB/s eta 0:00:01\r\u001b[K     |████████▍                       | 61 kB 5.8 MB/s eta 0:00:01\r\u001b[K     |█████████▊                      | 71 kB 5.6 MB/s eta 0:00:01\r\u001b[K     |███████████▏                    | 81 kB 6.3 MB/s eta 0:00:01\r\u001b[K     |████████████▌                   | 92 kB 4.8 MB/s eta 0:00:01\r\u001b[K     |██████████████                  | 102 kB 5.2 MB/s eta 0:00:01\r\u001b[K     |███████████████▎                | 112 kB 5.2 MB/s eta 0:00:01\r\u001b[K     |████████████████▊               | 122 kB 5.2 MB/s eta 0:00:01\r\u001b[K     |██████████████████              | 133 kB 5.2 MB/s eta 0:00:01\r\u001b[K     |███████████████████▌            | 143 kB 5.2 MB/s eta 0:00:01\r\u001b[K     |████████████████████▉           | 153 kB 5.2 MB/s eta 0:00:01\r\u001b[K     |██████████████████████▎         | 163 kB 5.2 MB/s eta 0:00:01\r\u001b[K     |███████████████████████▋        | 174 kB 5.2 MB/s eta 0:00:01\r\u001b[K     |█████████████████████████       | 184 kB 5.2 MB/s eta 0:00:01\r\u001b[K     |██████████████████████████▍     | 194 kB 5.2 MB/s eta 0:00:01\r\u001b[K     |███████████████████████████▉    | 204 kB 5.2 MB/s eta 0:00:01\r\u001b[K     |█████████████████████████████▏  | 215 kB 5.2 MB/s eta 0:00:01\r\u001b[K     |██████████████████████████████▋ | 225 kB 5.2 MB/s eta 0:00:01\r\u001b[K     |████████████████████████████████| 235 kB 5.2 MB/s eta 0:00:01\r\u001b[K     |████████████████████████████████| 235 kB 5.2 MB/s \n",
            "\u001b[?25hInstalling collected packages: unidecode\n",
            "Successfully installed unidecode-1.3.2\n"
          ]
        }
      ]
    },
    {
      "cell_type": "code",
      "metadata": {
        "id": "bGceI6L2lb7C"
      },
      "source": [
        "from ocb_fx.utils import *\n",
        "from unidecode import unidecode"
      ],
      "execution_count": 39,
      "outputs": []
    },
    {
      "cell_type": "code",
      "metadata": {
        "id": "xFnw0M59M9dr",
        "outputId": "e65afb10-a592-4458-90f2-c952ccd535ea",
        "colab": {
          "base_uri": "https://localhost:8080/",
          "height": 597
        }
      },
      "source": [
        "df = to_structured_data(load_files('ocb_fx/data'))\n",
        "df"
      ],
      "execution_count": 35,
      "outputs": [
        {
          "output_type": "stream",
          "name": "stdout",
          "text": [
            "6  file(s) read\n"
          ]
        },
        {
          "output_type": "execute_result",
          "data": {
            "text/html": [
              "<div>\n",
              "<style scoped>\n",
              "    .dataframe tbody tr th:only-of-type {\n",
              "        vertical-align: middle;\n",
              "    }\n",
              "\n",
              "    .dataframe tbody tr th {\n",
              "        vertical-align: top;\n",
              "    }\n",
              "\n",
              "    .dataframe thead th {\n",
              "        text-align: right;\n",
              "    }\n",
              "</style>\n",
              "<table border=\"1\" class=\"dataframe\">\n",
              "  <thead>\n",
              "    <tr style=\"text-align: right;\">\n",
              "      <th></th>\n",
              "      <th>date</th>\n",
              "      <th>trader</th>\n",
              "      <th>bank</th>\n",
              "      <th>time</th>\n",
              "      <th>text</th>\n",
              "    </tr>\n",
              "  </thead>\n",
              "  <tbody>\n",
              "    <tr>\n",
              "      <th>0</th>\n",
              "      <td>2021-11-12</td>\n",
              "      <td>Tran Hong Quan</td>\n",
              "      <td>Vietnam Bond Market Association</td>\n",
              "      <td>09:00:06</td>\n",
              "      <td>Good morning anh/chị. VBMA xin gửi swap date t...</td>\n",
              "    </tr>\n",
              "    <tr>\n",
              "      <th>1</th>\n",
              "      <td>2021-11-12</td>\n",
              "      <td>Vu Ha Tuan</td>\n",
              "      <td>Vietnam International Bank</td>\n",
              "      <td>09:00:17</td>\n",
              "      <td>sell VPB ON nhé</td>\n",
              "    </tr>\n",
              "    <tr>\n",
              "      <th>2</th>\n",
              "      <td>2021-11-12</td>\n",
              "      <td>Trung Nguyen Duy</td>\n",
              "      <td>Vietnam Prosperity JS Commercial Bank</td>\n",
              "      <td>09:00:23</td>\n",
              "      <td>done a vũ</td>\n",
              "    </tr>\n",
              "    <tr>\n",
              "      <th>3</th>\n",
              "      <td>2021-11-12</td>\n",
              "      <td>Kien Nguyen Khac</td>\n",
              "      <td>Asia Commercial Bank</td>\n",
              "      <td>09:00:26</td>\n",
              "      <td>sell VP ON</td>\n",
              "    </tr>\n",
              "    <tr>\n",
              "      <th>4</th>\n",
              "      <td>2021-11-12</td>\n",
              "      <td>Nguyen Ngoc Ha</td>\n",
              "      <td>Vietnam Technological Commercial Joint Stock Bank</td>\n",
              "      <td>09:00:26</td>\n",
              "      <td>offer 1m 0.78</td>\n",
              "    </tr>\n",
              "    <tr>\n",
              "      <th>...</th>\n",
              "      <td>...</td>\n",
              "      <td>...</td>\n",
              "      <td>...</td>\n",
              "      <td>...</td>\n",
              "      <td>...</td>\n",
              "    </tr>\n",
              "    <tr>\n",
              "      <th>921</th>\n",
              "      <td>2021-11-19</td>\n",
              "      <td>Thao Pham Thi Ngoc</td>\n",
              "      <td>Vietnam Technological Commercial Joint Stock Bank</td>\n",
              "      <td>14:10:01</td>\n",
              "      <td>chị quote tod đó QA ơi</td>\n",
              "    </tr>\n",
              "    <tr>\n",
              "      <th>922</th>\n",
              "      <td>2021-11-19</td>\n",
              "      <td>Do Quoc Anh</td>\n",
              "      <td>Lien Viet Post Joint Stock Commercial Bank</td>\n",
              "      <td>14:10:08</td>\n",
              "      <td>éc. dạ vậy nothing chị</td>\n",
              "    </tr>\n",
              "    <tr>\n",
              "      <th>923</th>\n",
              "      <td>2021-11-19</td>\n",
              "      <td>Thao Pham Thi Ngoc</td>\n",
              "      <td>Vietnam Technological Commercial Joint Stock Bank</td>\n",
              "      <td>14:10:21</td>\n",
              "      <td>ok e nothing nhé</td>\n",
              "    </tr>\n",
              "    <tr>\n",
              "      <th>924</th>\n",
              "      <td>2021-11-19</td>\n",
              "      <td>Dat Le Tat</td>\n",
              "      <td>SouthEast Asia Commercial Joint Stock Bank</td>\n",
              "      <td>14:11:05</td>\n",
              "      <td>done Quốc Anh nhé</td>\n",
              "    </tr>\n",
              "    <tr>\n",
              "      <th>925</th>\n",
              "      <td>2021-11-19</td>\n",
              "      <td>Do Quoc Anh</td>\n",
              "      <td>Lien Viet Post Joint Stock Commercial Bank</td>\n",
              "      <td>14:11:18</td>\n",
              "      <td>vâng a</td>\n",
              "    </tr>\n",
              "  </tbody>\n",
              "</table>\n",
              "<p>926 rows × 5 columns</p>\n",
              "</div>"
            ],
            "text/plain": [
              "          date  ...                                               text\n",
              "0   2021-11-12  ...  Good morning anh/chị. VBMA xin gửi swap date t...\n",
              "1   2021-11-12  ...                                    sell VPB ON nhé\n",
              "2   2021-11-12  ...                                          done a vũ\n",
              "3   2021-11-12  ...                                         sell VP ON\n",
              "4   2021-11-12  ...                                      offer 1m 0.78\n",
              "..         ...  ...                                                ...\n",
              "921 2021-11-19  ...                             chị quote tod đó QA ơi\n",
              "922 2021-11-19  ...                             éc. dạ vậy nothing chị\n",
              "923 2021-11-19  ...                                   ok e nothing nhé\n",
              "924 2021-11-19  ...                                 done Quốc Anh nhé \n",
              "925 2021-11-19  ...                                             vâng a\n",
              "\n",
              "[926 rows x 5 columns]"
            ]
          },
          "metadata": {},
          "execution_count": 35
        }
      ]
    },
    {
      "cell_type": "code",
      "metadata": {
        "id": "aUKyvokPbz-T",
        "outputId": "63944b32-c909-4c03-a21c-9b49f61271df",
        "colab": {
          "base_uri": "https://localhost:8080/",
          "height": 424
        }
      },
      "source": [
        "bank_df = pd.read_csv('ocb_fx/param/bank.csv', header=None)\n",
        "df['bank'] = df.merge(bank_df, how='left', left_on='bank', right_on=0).iloc[:, -1]\n",
        "assert df['bank'].isna().any() == False\n",
        "df = df[df['bank'] != 'VBMA']\n",
        "df.reset_index(drop=True, inplace=True)\n",
        "df"
      ],
      "execution_count": 36,
      "outputs": [
        {
          "output_type": "execute_result",
          "data": {
            "text/html": [
              "<div>\n",
              "<style scoped>\n",
              "    .dataframe tbody tr th:only-of-type {\n",
              "        vertical-align: middle;\n",
              "    }\n",
              "\n",
              "    .dataframe tbody tr th {\n",
              "        vertical-align: top;\n",
              "    }\n",
              "\n",
              "    .dataframe thead th {\n",
              "        text-align: right;\n",
              "    }\n",
              "</style>\n",
              "<table border=\"1\" class=\"dataframe\">\n",
              "  <thead>\n",
              "    <tr style=\"text-align: right;\">\n",
              "      <th></th>\n",
              "      <th>date</th>\n",
              "      <th>trader</th>\n",
              "      <th>bank</th>\n",
              "      <th>time</th>\n",
              "      <th>text</th>\n",
              "    </tr>\n",
              "  </thead>\n",
              "  <tbody>\n",
              "    <tr>\n",
              "      <th>0</th>\n",
              "      <td>2021-11-12</td>\n",
              "      <td>Vu Ha Tuan</td>\n",
              "      <td>VIB</td>\n",
              "      <td>09:00:17</td>\n",
              "      <td>sell VPB ON nhé</td>\n",
              "    </tr>\n",
              "    <tr>\n",
              "      <th>1</th>\n",
              "      <td>2021-11-12</td>\n",
              "      <td>Trung Nguyen Duy</td>\n",
              "      <td>VPB</td>\n",
              "      <td>09:00:23</td>\n",
              "      <td>done a vũ</td>\n",
              "    </tr>\n",
              "    <tr>\n",
              "      <th>2</th>\n",
              "      <td>2021-11-12</td>\n",
              "      <td>Kien Nguyen Khac</td>\n",
              "      <td>ACB</td>\n",
              "      <td>09:00:26</td>\n",
              "      <td>sell VP ON</td>\n",
              "    </tr>\n",
              "    <tr>\n",
              "      <th>3</th>\n",
              "      <td>2021-11-12</td>\n",
              "      <td>Nguyen Ngoc Ha</td>\n",
              "      <td>TCB</td>\n",
              "      <td>09:00:26</td>\n",
              "      <td>offer 1m 0.78</td>\n",
              "    </tr>\n",
              "    <tr>\n",
              "      <th>4</th>\n",
              "      <td>2021-11-12</td>\n",
              "      <td>Vu Ha Tuan</td>\n",
              "      <td>VIB</td>\n",
              "      <td>09:00:27</td>\n",
              "      <td>50u nhé</td>\n",
              "    </tr>\n",
              "    <tr>\n",
              "      <th>...</th>\n",
              "      <td>...</td>\n",
              "      <td>...</td>\n",
              "      <td>...</td>\n",
              "      <td>...</td>\n",
              "      <td>...</td>\n",
              "    </tr>\n",
              "    <tr>\n",
              "      <th>907</th>\n",
              "      <td>2021-11-19</td>\n",
              "      <td>Thao Pham Thi Ngoc</td>\n",
              "      <td>TCB</td>\n",
              "      <td>14:10:01</td>\n",
              "      <td>chị quote tod đó QA ơi</td>\n",
              "    </tr>\n",
              "    <tr>\n",
              "      <th>908</th>\n",
              "      <td>2021-11-19</td>\n",
              "      <td>Do Quoc Anh</td>\n",
              "      <td>LVP</td>\n",
              "      <td>14:10:08</td>\n",
              "      <td>éc. dạ vậy nothing chị</td>\n",
              "    </tr>\n",
              "    <tr>\n",
              "      <th>909</th>\n",
              "      <td>2021-11-19</td>\n",
              "      <td>Thao Pham Thi Ngoc</td>\n",
              "      <td>TCB</td>\n",
              "      <td>14:10:21</td>\n",
              "      <td>ok e nothing nhé</td>\n",
              "    </tr>\n",
              "    <tr>\n",
              "      <th>910</th>\n",
              "      <td>2021-11-19</td>\n",
              "      <td>Dat Le Tat</td>\n",
              "      <td>SEA</td>\n",
              "      <td>14:11:05</td>\n",
              "      <td>done Quốc Anh nhé</td>\n",
              "    </tr>\n",
              "    <tr>\n",
              "      <th>911</th>\n",
              "      <td>2021-11-19</td>\n",
              "      <td>Do Quoc Anh</td>\n",
              "      <td>LVP</td>\n",
              "      <td>14:11:18</td>\n",
              "      <td>vâng a</td>\n",
              "    </tr>\n",
              "  </tbody>\n",
              "</table>\n",
              "<p>912 rows × 5 columns</p>\n",
              "</div>"
            ],
            "text/plain": [
              "          date              trader bank      time                    text\n",
              "0   2021-11-12          Vu Ha Tuan  VIB  09:00:17         sell VPB ON nhé\n",
              "1   2021-11-12    Trung Nguyen Duy  VPB  09:00:23               done a vũ\n",
              "2   2021-11-12    Kien Nguyen Khac  ACB  09:00:26              sell VP ON\n",
              "3   2021-11-12      Nguyen Ngoc Ha  TCB  09:00:26           offer 1m 0.78\n",
              "4   2021-11-12          Vu Ha Tuan  VIB  09:00:27                50u nhé \n",
              "..         ...                 ...  ...       ...                     ...\n",
              "907 2021-11-19  Thao Pham Thi Ngoc  TCB  14:10:01  chị quote tod đó QA ơi\n",
              "908 2021-11-19         Do Quoc Anh  LVP  14:10:08  éc. dạ vậy nothing chị\n",
              "909 2021-11-19  Thao Pham Thi Ngoc  TCB  14:10:21        ok e nothing nhé\n",
              "910 2021-11-19          Dat Le Tat  SEA  14:11:05      done Quốc Anh nhé \n",
              "911 2021-11-19         Do Quoc Anh  LVP  14:11:18                  vâng a\n",
              "\n",
              "[912 rows x 5 columns]"
            ]
          },
          "metadata": {},
          "execution_count": 36
        }
      ]
    },
    {
      "cell_type": "code",
      "metadata": {
        "id": "FvTlWsWruMcn"
      },
      "source": [
        "dfc = df.copy()"
      ],
      "execution_count": 37,
      "outputs": []
    },
    {
      "cell_type": "code",
      "metadata": {
        "id": "J7G6Gmv62RcG",
        "outputId": "8c9d1913-a032-48d1-ba69-88e8bd99d150",
        "colab": {
          "base_uri": "https://localhost:8080/",
          "height": 424
        }
      },
      "source": [
        "df = dfc.copy()\n",
        "df['text'] = df['text'].map(lambda s: unidecode(s.lower()))\n",
        "df['trader'] = df['trader'].map(lambda s: s.lower())\n",
        "df"
      ],
      "execution_count": 41,
      "outputs": [
        {
          "output_type": "execute_result",
          "data": {
            "text/html": [
              "<div>\n",
              "<style scoped>\n",
              "    .dataframe tbody tr th:only-of-type {\n",
              "        vertical-align: middle;\n",
              "    }\n",
              "\n",
              "    .dataframe tbody tr th {\n",
              "        vertical-align: top;\n",
              "    }\n",
              "\n",
              "    .dataframe thead th {\n",
              "        text-align: right;\n",
              "    }\n",
              "</style>\n",
              "<table border=\"1\" class=\"dataframe\">\n",
              "  <thead>\n",
              "    <tr style=\"text-align: right;\">\n",
              "      <th></th>\n",
              "      <th>date</th>\n",
              "      <th>trader</th>\n",
              "      <th>bank</th>\n",
              "      <th>time</th>\n",
              "      <th>text</th>\n",
              "    </tr>\n",
              "  </thead>\n",
              "  <tbody>\n",
              "    <tr>\n",
              "      <th>0</th>\n",
              "      <td>2021-11-12</td>\n",
              "      <td>vu ha tuan</td>\n",
              "      <td>VIB</td>\n",
              "      <td>09:00:17</td>\n",
              "      <td>sell vpb on nhe</td>\n",
              "    </tr>\n",
              "    <tr>\n",
              "      <th>1</th>\n",
              "      <td>2021-11-12</td>\n",
              "      <td>trung nguyen duy</td>\n",
              "      <td>VPB</td>\n",
              "      <td>09:00:23</td>\n",
              "      <td>done a vu</td>\n",
              "    </tr>\n",
              "    <tr>\n",
              "      <th>2</th>\n",
              "      <td>2021-11-12</td>\n",
              "      <td>kien nguyen khac</td>\n",
              "      <td>ACB</td>\n",
              "      <td>09:00:26</td>\n",
              "      <td>sell vp on</td>\n",
              "    </tr>\n",
              "    <tr>\n",
              "      <th>3</th>\n",
              "      <td>2021-11-12</td>\n",
              "      <td>nguyen ngoc ha</td>\n",
              "      <td>TCB</td>\n",
              "      <td>09:00:26</td>\n",
              "      <td>offer 1m 0.78</td>\n",
              "    </tr>\n",
              "    <tr>\n",
              "      <th>4</th>\n",
              "      <td>2021-11-12</td>\n",
              "      <td>vu ha tuan</td>\n",
              "      <td>VIB</td>\n",
              "      <td>09:00:27</td>\n",
              "      <td>50u nhe</td>\n",
              "    </tr>\n",
              "    <tr>\n",
              "      <th>...</th>\n",
              "      <td>...</td>\n",
              "      <td>...</td>\n",
              "      <td>...</td>\n",
              "      <td>...</td>\n",
              "      <td>...</td>\n",
              "    </tr>\n",
              "    <tr>\n",
              "      <th>907</th>\n",
              "      <td>2021-11-19</td>\n",
              "      <td>thao pham thi ngoc</td>\n",
              "      <td>TCB</td>\n",
              "      <td>14:10:01</td>\n",
              "      <td>chi quote tod do qa oi</td>\n",
              "    </tr>\n",
              "    <tr>\n",
              "      <th>908</th>\n",
              "      <td>2021-11-19</td>\n",
              "      <td>do quoc anh</td>\n",
              "      <td>LVP</td>\n",
              "      <td>14:10:08</td>\n",
              "      <td>ec. da vay nothing chi</td>\n",
              "    </tr>\n",
              "    <tr>\n",
              "      <th>909</th>\n",
              "      <td>2021-11-19</td>\n",
              "      <td>thao pham thi ngoc</td>\n",
              "      <td>TCB</td>\n",
              "      <td>14:10:21</td>\n",
              "      <td>ok e nothing nhe</td>\n",
              "    </tr>\n",
              "    <tr>\n",
              "      <th>910</th>\n",
              "      <td>2021-11-19</td>\n",
              "      <td>dat le tat</td>\n",
              "      <td>SEA</td>\n",
              "      <td>14:11:05</td>\n",
              "      <td>done quoc anh nhe</td>\n",
              "    </tr>\n",
              "    <tr>\n",
              "      <th>911</th>\n",
              "      <td>2021-11-19</td>\n",
              "      <td>do quoc anh</td>\n",
              "      <td>LVP</td>\n",
              "      <td>14:11:18</td>\n",
              "      <td>vang a</td>\n",
              "    </tr>\n",
              "  </tbody>\n",
              "</table>\n",
              "<p>912 rows × 5 columns</p>\n",
              "</div>"
            ],
            "text/plain": [
              "          date              trader bank      time                    text\n",
              "0   2021-11-12          vu ha tuan  VIB  09:00:17         sell vpb on nhe\n",
              "1   2021-11-12    trung nguyen duy  VPB  09:00:23               done a vu\n",
              "2   2021-11-12    kien nguyen khac  ACB  09:00:26              sell vp on\n",
              "3   2021-11-12      nguyen ngoc ha  TCB  09:00:26           offer 1m 0.78\n",
              "4   2021-11-12          vu ha tuan  VIB  09:00:27                50u nhe \n",
              "..         ...                 ...  ...       ...                     ...\n",
              "907 2021-11-19  thao pham thi ngoc  TCB  14:10:01  chi quote tod do qa oi\n",
              "908 2021-11-19         do quoc anh  LVP  14:10:08  ec. da vay nothing chi\n",
              "909 2021-11-19  thao pham thi ngoc  TCB  14:10:21        ok e nothing nhe\n",
              "910 2021-11-19          dat le tat  SEA  14:11:05      done quoc anh nhe \n",
              "911 2021-11-19         do quoc anh  LVP  14:11:18                  vang a\n",
              "\n",
              "[912 rows x 5 columns]"
            ]
          },
          "metadata": {},
          "execution_count": 41
        }
      ]
    },
    {
      "cell_type": "code",
      "metadata": {
        "id": "6owOnOsZ5mEB"
      },
      "source": [
        "drop_words = ['oi', 'nhe']"
      ],
      "execution_count": null,
      "outputs": []
    },
    {
      "cell_type": "code",
      "metadata": {
        "id": "bM1BbY9C2paY",
        "outputId": "ea2eb555-d639-4741-88fc-2e143586694e",
        "colab": {
          "base_uri": "https://localhost:8080/"
        }
      },
      "source": [
        "pat = r'\\b(?:a|anh|c|chi)\\s(\\w+)'\n",
        "r = re.compile(pat)\n",
        "df['mention'] = df['text'].str.extract(r)\n",
        "df.shape"
      ],
      "execution_count": 60,
      "outputs": [
        {
          "output_type": "execute_result",
          "data": {
            "text/plain": [
              "(912, 6)"
            ]
          },
          "metadata": {},
          "execution_count": 60
        }
      ]
    },
    {
      "cell_type": "code",
      "metadata": {
        "id": "9UYHn1r5Ambe",
        "outputId": "adafa739-07eb-4b17-da16-9718e7a4002c",
        "colab": {
          "base_uri": "https://localhost:8080/"
        }
      },
      "source": [
        "!cd ocb_fx && git config user.email \"sonhn.dev@google.com\"\n",
        "!cd ocb_fx && git config user.name \"Son Hoang Ngoc\"\n",
        "!cd ocb_fx && git commit"
      ],
      "execution_count": 61,
      "outputs": [
        {
          "output_type": "stream",
          "name": "stdout",
          "text": [
            "On branch main\n",
            "Your branch is up to date with 'origin/main'.\n",
            "\n",
            "nothing to commit, working tree clean\n"
          ]
        }
      ]
    },
    {
      "cell_type": "code",
      "metadata": {
        "id": "UvmKvdgk4sYM",
        "outputId": "99f9ada8-fde9-44a8-ac00-1236af6d21cd",
        "colab": {
          "base_uri": "https://localhost:8080/"
        }
      },
      "source": [
        "!cd ocb_fx && git push https://github.com/sonhn-dev/ocb_fx"
      ],
      "execution_count": 64,
      "outputs": [
        {
          "output_type": "stream",
          "name": "stdout",
          "text": [
            "fatal: could not read Username for 'https://github.com': No such device or address\n"
          ]
        }
      ]
    },
    {
      "cell_type": "code",
      "metadata": {
        "id": "s-zpRA0B-1_1"
      },
      "source": [
        ""
      ],
      "execution_count": null,
      "outputs": []
    }
  ]
}